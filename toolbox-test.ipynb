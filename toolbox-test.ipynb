{
 "cells": [
  {
   "cell_type": "code",
   "execution_count": 9,
   "metadata": {},
   "outputs": [],
   "source": [
    "import numpy as np\n",
    "import cdt\n",
    "import networkx as nx\n",
    "import pandas as pd\n",
    "import os\n",
    "import requests\n",
    "import zipfile\n",
    "import io\n",
    "from numpy import random\n",
    "from cdt import utils\n",
    "from cdt.utils import read_causal_pairs\n",
    "from cdt.utils import R\n",
    "from cdt.utils.R import DefaultRPackages\n",
    "from cdt.utils.io import  read_list_edges\n",
    "#import zipfile #besoin de la commande \"pip instal zipfile36\" avant la 1ère utilisation"
   ]
  },
  {
   "cell_type": "code",
   "execution_count": 10,
   "metadata": {},
   "outputs": [
    {
     "name": "stdout",
     "output_type": "stream",
     "text": [
      "   praf  pmek   plcg   PIP2   PIP3  p44/42  pakts473    PKA    PKC   P38  pjnk\n",
      "0  26.4  13.2   8.82  18.30  58.80    6.61      17.0  414.0  17.00  44.9  40.0\n",
      "1  35.9  16.5  12.30  16.80   8.13   18.60      32.5  352.0   3.37  16.5  61.5\n",
      "2  59.4  44.1  14.60  10.20  13.00   14.90      32.5  403.0  11.40  31.9  19.5\n",
      "3  73.0  82.8  23.10  13.50   1.29    5.83      11.8  528.0  13.70  28.6  23.1\n",
      "4  33.7  19.8   5.19   9.73  24.80   21.10      46.1  305.0   4.66  25.7  81.3\n"
     ]
    }
   ],
   "source": [
    "data, graph = cdt.data.load_dataset('sachs')\n",
    "print(data.head())"
   ]
  },
  {
   "cell_type": "code",
   "execution_count": 11,
   "metadata": {},
   "outputs": [
    {
     "name": "stdout",
     "output_type": "stream",
     "text": [
      "   praf  pmek   plcg   PIP2   PIP3  p44/42  pakts473    PKA    PKC   P38  pjnk\n",
      "0  26.4  13.2   8.82  18.30  58.80    6.61      17.0  414.0  17.00  44.9  40.0\n",
      "1  35.9  16.5  12.30  16.80   8.13   18.60      32.5  352.0   3.37  16.5  61.5\n",
      "2  59.4  44.1  14.60  10.20  13.00   14.90      32.5  403.0  11.40  31.9  19.5\n",
      "3  73.0  82.8  23.10  13.50   1.29    5.83      11.8  528.0  13.70  28.6  23.1\n",
      "4  33.7  19.8   5.19   9.73  24.80   21.10      46.1  305.0   4.66  25.7  81.3\n"
     ]
    }
   ],
   "source": [
    "print(data.head())"
   ]
  },
  {
   "cell_type": "code",
   "execution_count": 12,
   "metadata": {},
   "outputs": [
    {
     "name": "stdout",
     "output_type": "stream",
     "text": [
      "\n"
     ]
    }
   ],
   "source": [
    "glasso = cdt.independence.graph.Glasso()\n",
    "skeleton = glasso.predict(data)\n",
    "print(skeleton)"
   ]
  },
  {
   "cell_type": "code",
   "execution_count": 13,
   "metadata": {},
   "outputs": [
    {
     "name": "stdout",
     "output_type": "stream",
     "text": [
      "[[ 9.26744031e-04 -6.13751618e-04  1.66612981e-05 -1.10912131e-06\n",
      "  -3.04172363e-05 -9.71526466e-05  7.00340545e-05 -1.93863471e-06\n",
      "  -7.31774543e-06  2.29788237e-06  8.31264711e-06]\n",
      " [-6.13751618e-04  4.14978956e-04 -1.37962487e-05  1.42164753e-06\n",
      "   2.04443539e-05  8.24208108e-05 -5.63238668e-05  1.62688021e-06\n",
      "   8.63444133e-06 -2.88779755e-06 -4.69605195e-06]\n",
      " [ 1.66612981e-05 -1.37962487e-05  2.60824802e-04 -1.35895911e-04\n",
      "   8.78979413e-05  2.17234579e-05 -2.07856535e-05  1.23313600e-06\n",
      "   2.12954874e-05 -3.22869246e-06 -7.47522248e-06]\n",
      " [-1.10912131e-06  1.42164753e-06 -1.35895911e-04  8.68622146e-05\n",
      "  -7.05405720e-05  3.08709259e-06 -2.60810094e-06  9.09261370e-09\n",
      "  -6.25320515e-06  2.56399675e-07  2.85201875e-07]\n",
      " [-3.04172363e-05  2.04443539e-05  8.78979413e-05 -7.05405720e-05\n",
      "   6.09681818e-04 -9.91703900e-06  1.78188074e-05 -5.97491176e-07\n",
      "   6.11896719e-06 -4.30918870e-07  5.79322379e-06]\n",
      " [-9.71526466e-05  8.24208108e-05  2.17234579e-05  3.08709259e-06\n",
      "  -9.91703900e-06  1.10860610e-03 -3.08483289e-04 -1.30867663e-05\n",
      "  -3.31258890e-05  7.76132824e-06  2.10416319e-05]\n",
      " [ 7.00340545e-05 -5.63238668e-05 -2.07856535e-05 -2.60810094e-06\n",
      "   1.78188074e-05 -3.08483289e-04  1.66144775e-04  1.26667898e-06\n",
      "   3.11407736e-05 -7.29116898e-06 -1.86454298e-05]\n",
      " [-1.93863471e-06  1.62688021e-06  1.23313600e-06  9.09261370e-09\n",
      "  -5.97491176e-07 -1.30867663e-05  1.26667898e-06  2.80073467e-06\n",
      "  -3.78879972e-06  8.67580852e-07  6.92379671e-07]\n",
      " [-7.31774543e-06  8.63444133e-06  2.12954874e-05 -6.25320515e-06\n",
      "   6.11896719e-06 -3.31258890e-05  3.11407736e-05 -3.78879972e-06\n",
      "   1.59642510e-03 -2.58155157e-04 -1.01767664e-04]\n",
      " [ 2.29788237e-06 -2.88779755e-06 -3.22869246e-06  2.56399675e-07\n",
      "  -4.30918870e-07  7.76132824e-06 -7.29116898e-06  8.67580852e-07\n",
      "  -2.58155157e-04  5.32997159e-05 -3.35285721e-06]\n",
      " [ 8.31264711e-06 -4.69605195e-06 -7.47522248e-06  2.85201875e-07\n",
      "   5.79322379e-06  2.10416319e-05 -1.86454298e-05  6.92379671e-07\n",
      "  -1.01767664e-04 -3.35285721e-06  7.05796078e-05]]\n"
     ]
    }
   ],
   "source": [
    "print(nx.adjacency_matrix(skeleton).todense())"
   ]
  },
  {
   "cell_type": "code",
   "execution_count": 14,
   "metadata": {},
   "outputs": [
    {
     "name": "stdout",
     "output_type": "stream",
     "text": [
      "[[9.26744031e-04 0.00000000e+00 1.66612981e-05 0.00000000e+00\n",
      "  0.00000000e+00 0.00000000e+00 7.00340545e-05 0.00000000e+00\n",
      "  0.00000000e+00 2.29788237e-06 8.31264711e-06]\n",
      " [0.00000000e+00 4.14978956e-04 0.00000000e+00 0.00000000e+00\n",
      "  2.04443539e-05 8.24208108e-05 0.00000000e+00 1.62688021e-06\n",
      "  8.63444133e-06 0.00000000e+00 0.00000000e+00]\n",
      " [1.66612981e-05 0.00000000e+00 2.60824802e-04 0.00000000e+00\n",
      "  8.78979413e-05 2.17234579e-05 0.00000000e+00 1.23313600e-06\n",
      "  2.12954874e-05 0.00000000e+00 0.00000000e+00]\n",
      " [0.00000000e+00 0.00000000e+00 0.00000000e+00 8.68622146e-05\n",
      "  0.00000000e+00 3.08709259e-06 0.00000000e+00 9.09261370e-09\n",
      "  0.00000000e+00 0.00000000e+00 0.00000000e+00]\n",
      " [0.00000000e+00 2.04443539e-05 8.78979413e-05 0.00000000e+00\n",
      "  6.09681818e-04 0.00000000e+00 1.78188074e-05 0.00000000e+00\n",
      "  0.00000000e+00 0.00000000e+00 5.79322379e-06]\n",
      " [0.00000000e+00 8.24208108e-05 2.17234579e-05 3.08709259e-06\n",
      "  0.00000000e+00 1.10860610e-03 0.00000000e+00 0.00000000e+00\n",
      "  0.00000000e+00 7.76132824e-06 2.10416319e-05]\n",
      " [7.00340545e-05 0.00000000e+00 0.00000000e+00 0.00000000e+00\n",
      "  1.78188074e-05 0.00000000e+00 1.66144775e-04 1.26667898e-06\n",
      "  3.11407736e-05 0.00000000e+00 0.00000000e+00]\n",
      " [0.00000000e+00 1.62688021e-06 1.23313600e-06 9.09261370e-09\n",
      "  0.00000000e+00 0.00000000e+00 1.26667898e-06 2.80073467e-06\n",
      "  0.00000000e+00 8.67580852e-07 6.92379671e-07]\n",
      " [0.00000000e+00 8.63444133e-06 2.12954874e-05 0.00000000e+00\n",
      "  0.00000000e+00 0.00000000e+00 3.11407736e-05 0.00000000e+00\n",
      "  1.59642510e-03 0.00000000e+00 0.00000000e+00]\n",
      " [2.29788237e-06 0.00000000e+00 0.00000000e+00 0.00000000e+00\n",
      "  0.00000000e+00 7.76132824e-06 0.00000000e+00 8.67580852e-07\n",
      "  0.00000000e+00 5.32997159e-05 0.00000000e+00]\n",
      " [8.31264711e-06 0.00000000e+00 0.00000000e+00 0.00000000e+00\n",
      "  5.79322379e-06 2.10416319e-05 0.00000000e+00 6.92379671e-07\n",
      "  0.00000000e+00 0.00000000e+00 7.05796078e-05]]\n"
     ]
    }
   ],
   "source": [
    "new_skeleton = cdt.utils.graph.remove_indirect_links(skeleton, alg='aracne')\n",
    "print(nx.adjacency_matrix(new_skeleton).todense())"
   ]
  },
  {
   "cell_type": "code",
   "execution_count": 15,
   "metadata": {},
   "outputs": [],
   "source": [
    "\n",
    "#cdt.SETTINGS.r_is_available"
   ]
  },
  {
   "cell_type": "code",
   "execution_count": 19,
   "metadata": {},
   "outputs": [
    {
     "ename": "ImportError",
     "evalue": "R Package pcalg is not available.",
     "output_type": "error",
     "traceback": [
      "\u001b[1;31m---------------------------------------------------------------------------\u001b[0m",
      "\u001b[1;31mImportError\u001b[0m                               Traceback (most recent call last)",
      "\u001b[1;32m<ipython-input-19-07b08f053357>\u001b[0m in \u001b[0;36m<module>\u001b[1;34m\u001b[0m\n\u001b[1;32m----> 1\u001b[1;33m \u001b[0mmodel\u001b[0m \u001b[1;33m=\u001b[0m \u001b[0mcdt\u001b[0m\u001b[1;33m.\u001b[0m\u001b[0mcausality\u001b[0m\u001b[1;33m.\u001b[0m\u001b[0mgraph\u001b[0m\u001b[1;33m.\u001b[0m\u001b[0mGES\u001b[0m\u001b[1;33m(\u001b[0m\u001b[1;33m)\u001b[0m \u001b[1;31m#ne compile pas\u001b[0m\u001b[1;33m\u001b[0m\u001b[1;33m\u001b[0m\u001b[0m\n\u001b[0m",
      "\u001b[1;32m~\\Anaconda3\\lib\\site-packages\\cdt\\causality\\graph\\GES.py\u001b[0m in \u001b[0;36m__init__\u001b[1;34m(self, score, verbose)\u001b[0m\n\u001b[0;32m    108\u001b[0m         \u001b[1;34m\"\"\"Init the model and its available arguments.\"\"\"\u001b[0m\u001b[1;33m\u001b[0m\u001b[1;33m\u001b[0m\u001b[0m\n\u001b[0;32m    109\u001b[0m         \u001b[1;32mif\u001b[0m \u001b[1;32mnot\u001b[0m \u001b[0mRPackages\u001b[0m\u001b[1;33m.\u001b[0m\u001b[0mpcalg\u001b[0m\u001b[1;33m:\u001b[0m\u001b[1;33m\u001b[0m\u001b[1;33m\u001b[0m\u001b[0m\n\u001b[1;32m--> 110\u001b[1;33m             \u001b[1;32mraise\u001b[0m \u001b[0mImportError\u001b[0m\u001b[1;33m(\u001b[0m\u001b[1;34m\"R Package pcalg is not available.\"\u001b[0m\u001b[1;33m)\u001b[0m\u001b[1;33m\u001b[0m\u001b[1;33m\u001b[0m\u001b[0m\n\u001b[0m\u001b[0;32m    111\u001b[0m \u001b[1;33m\u001b[0m\u001b[0m\n\u001b[0;32m    112\u001b[0m         \u001b[0msuper\u001b[0m\u001b[1;33m(\u001b[0m\u001b[0mGES\u001b[0m\u001b[1;33m,\u001b[0m \u001b[0mself\u001b[0m\u001b[1;33m)\u001b[0m\u001b[1;33m.\u001b[0m\u001b[0m__init__\u001b[0m\u001b[1;33m(\u001b[0m\u001b[1;33m)\u001b[0m\u001b[1;33m\u001b[0m\u001b[1;33m\u001b[0m\u001b[0m\n",
      "\u001b[1;31mImportError\u001b[0m: R Package pcalg is not available."
     ]
    }
   ],
   "source": [
    "model = cdt.causality.graph.GES() #ne compile pas"
   ]
  },
  {
   "cell_type": "code",
   "execution_count": 20,
   "metadata": {},
   "outputs": [
    {
     "ename": "NameError",
     "evalue": "name 'model' is not defined",
     "output_type": "error",
     "traceback": [
      "\u001b[1;31m---------------------------------------------------------------------------\u001b[0m",
      "\u001b[1;31mNameError\u001b[0m                                 Traceback (most recent call last)",
      "\u001b[1;32m<ipython-input-20-d71916d4dd88>\u001b[0m in \u001b[0;36m<module>\u001b[1;34m\u001b[0m\n\u001b[1;32m----> 1\u001b[1;33m \u001b[0moutput_graph\u001b[0m \u001b[1;33m=\u001b[0m \u001b[0mmodel\u001b[0m\u001b[1;33m.\u001b[0m\u001b[0mpredict\u001b[0m\u001b[1;33m(\u001b[0m\u001b[0mdata\u001b[0m\u001b[1;33m,\u001b[0m \u001b[0mnew_skeleton\u001b[0m\u001b[1;33m)\u001b[0m\u001b[1;33m\u001b[0m\u001b[1;33m\u001b[0m\u001b[0m\n\u001b[0m\u001b[0;32m      2\u001b[0m \u001b[0mprint\u001b[0m\u001b[1;33m(\u001b[0m\u001b[0mnx\u001b[0m\u001b[1;33m.\u001b[0m\u001b[0madjacency_matrix\u001b[0m\u001b[1;33m(\u001b[0m\u001b[0moutput_graph\u001b[0m\u001b[1;33m)\u001b[0m\u001b[1;33m.\u001b[0m\u001b[0mtodense\u001b[0m\u001b[1;33m(\u001b[0m\u001b[1;33m)\u001b[0m\u001b[1;33m)\u001b[0m\u001b[1;33m\u001b[0m\u001b[1;33m\u001b[0m\u001b[0m\n",
      "\u001b[1;31mNameError\u001b[0m: name 'model' is not defined"
     ]
    }
   ],
   "source": [
    "output_graph = model.predict(data, new_skeleton)\n",
    "print(nx.adjacency_matrix(output_graph).todense())"
   ]
  },
  {
   "cell_type": "code",
   "execution_count": null,
   "metadata": {},
   "outputs": [],
   "source": []
  }
 ],
 "metadata": {
  "kernelspec": {
   "display_name": "Python 3",
   "language": "python",
   "name": "python3"
  },
  "language_info": {
   "codemirror_mode": {
    "name": "ipython",
    "version": 3
   },
   "file_extension": ".py",
   "mimetype": "text/x-python",
   "name": "python",
   "nbconvert_exporter": "python",
   "pygments_lexer": "ipython3",
   "version": "3.7.4"
  }
 },
 "nbformat": 4,
 "nbformat_minor": 4
}
